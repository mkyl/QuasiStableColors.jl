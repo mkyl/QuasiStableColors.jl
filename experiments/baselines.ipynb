{
 "cells": [
  {
   "cell_type": "markdown",
   "metadata": {},
   "source": [
    "## Comparison with Previous Works\n",
    "### Centrality"
   ]
  },
  {
   "cell_type": "code",
   "execution_count": 96,
   "metadata": {},
   "outputs": [],
   "source": [
    "import numpy as np\n",
    "import networkit as nk\n",
    "from time import time"
   ]
  },
  {
   "cell_type": "code",
   "execution_count": 97,
   "metadata": {},
   "outputs": [],
   "source": [
    "# all experiments in this paper use serial execution\n",
    "nk.engineering.setNumberOfThreads(1)"
   ]
  },
  {
   "cell_type": "code",
   "execution_count": 98,
   "metadata": {},
   "outputs": [],
   "source": [
    "graph_tsv = \"../../../Datasets/epinions.tsv\"\n",
    "G = nk.readGraph(graph_tsv, nk.Format.SNAP)"
   ]
  },
  {
   "cell_type": "code",
   "execution_count": 114,
   "metadata": {},
   "outputs": [],
   "source": [
    "t1 = time()\n",
    "# adjust this epislon to get desired correlation\n",
    "ABC = nk.centrality.ApproxBetweenness(G, epsilon=0.045)\n",
    "ABC.run()\n",
    "C_est = ABC.scores()\n",
    "t2 = time()"
   ]
  },
  {
   "cell_type": "code",
   "execution_count": 100,
   "metadata": {},
   "outputs": [],
   "source": [
    "truth = nk.centrality.Betweenness(G)\n",
    "truth.run()\n",
    "C = truth.scores()"
   ]
  },
  {
   "cell_type": "code",
   "execution_count": 115,
   "metadata": {},
   "outputs": [
    {
     "data": {
      "text/plain": [
       "array([[1.        , 0.96812671],\n",
       "       [0.96812671, 1.        ]])"
      ]
     },
     "execution_count": 115,
     "metadata": {},
     "output_type": "execute_result"
    }
   ],
   "source": [
    "np.corrcoef(C, C_est)"
   ]
  }
 ],
 "metadata": {
  "kernelspec": {
   "display_name": "Python 3.10.7 64-bit ('3.10.7')",
   "language": "python",
   "name": "python3"
  },
  "language_info": {
   "codemirror_mode": {
    "name": "ipython",
    "version": 3
   },
   "file_extension": ".py",
   "mimetype": "text/x-python",
   "name": "python",
   "nbconvert_exporter": "python",
   "pygments_lexer": "ipython3",
   "version": "3.10.7"
  },
  "orig_nbformat": 4,
  "vscode": {
   "interpreter": {
    "hash": "ac96d7986756a20c8dd6b10cf2ecc4087dc72822bf60cc97e21b01101379fc47"
   }
  }
 },
 "nbformat": 4,
 "nbformat_minor": 2
}
